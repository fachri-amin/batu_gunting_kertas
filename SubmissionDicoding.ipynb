{
  "nbformat": 4,
  "nbformat_minor": 0,
  "metadata": {
    "colab": {
      "name": "SubmissionDicoding.ipynb",
      "provenance": [],
      "collapsed_sections": []
    },
    "kernelspec": {
      "name": "python3",
      "display_name": "Python 3"
    }
  },
  "cells": [
    {
      "cell_type": "code",
      "metadata": {
        "id": "B8TaPx_weEc3",
        "colab_type": "code",
        "colab": {}
      },
      "source": [
        "# dataset url = https://dicodingacademy.blob.core.windows.net/picodiploma/ml_pemula_academy/rockpaperscissors.zip"
      ],
      "execution_count": 0,
      "outputs": []
    },
    {
      "cell_type": "code",
      "metadata": {
        "id": "Lu1BpSVbgcxs",
        "colab_type": "code",
        "colab": {
          "base_uri": "https://localhost:8080/",
          "height": 34
        },
        "outputId": "2658f88c-1d07-4a1c-c337-a711f4c3bc9b"
      },
      "source": [
        "import tensorflow as tf\n",
        "from tensorflow.keras.optimizers import RMSprop\n",
        "from tensorflow.keras.preprocessing.image import ImageDataGenerator\n",
        "import numpy as np\n",
        "from google.colab import files\n",
        "from keras.preprocessing import image\n",
        "import matplotlib.pyplot as plt\n",
        "import matplotlib.image as mpimg\n",
        "import matplotlib.pyplot as plt\n",
        "import matplotlib.image as mpimg\n",
        "import os, zipfile\n",
        "%matplotlib inline"
      ],
      "execution_count": 2,
      "outputs": [
        {
          "output_type": "stream",
          "text": [
            "Using TensorFlow backend.\n"
          ],
          "name": "stderr"
        }
      ]
    },
    {
      "cell_type": "code",
      "metadata": {
        "id": "NSDQaVcghH_O",
        "colab_type": "code",
        "colab": {
          "base_uri": "https://localhost:8080/",
          "height": 202
        },
        "outputId": "b4a0a9ca-ac2b-4c02-ea9f-55e583e5615f"
      },
      "source": [
        "!wget --no-check-certificate \\\n",
        "  https://dicodingacademy.blob.core.windows.net/picodiploma/ml_pemula_academy/rockpaperscissors.zip \\\n",
        "  -O /tmp/rockpaperscissors.zip"
      ],
      "execution_count": 3,
      "outputs": [
        {
          "output_type": "stream",
          "text": [
            "--2020-06-04 06:38:02--  https://dicodingacademy.blob.core.windows.net/picodiploma/ml_pemula_academy/rockpaperscissors.zip\n",
            "Resolving dicodingacademy.blob.core.windows.net (dicodingacademy.blob.core.windows.net)... 52.239.197.36\n",
            "Connecting to dicodingacademy.blob.core.windows.net (dicodingacademy.blob.core.windows.net)|52.239.197.36|:443... connected.\n",
            "HTTP request sent, awaiting response... 200 OK\n",
            "Length: 322873683 (308M) [application/zip]\n",
            "Saving to: ‘/tmp/rockpaperscissors.zip’\n",
            "\n",
            "/tmp/rockpapersciss 100%[===================>] 307.92M  8.78MB/s    in 39s     \n",
            "\n",
            "2020-06-04 06:38:43 (7.83 MB/s) - ‘/tmp/rockpaperscissors.zip’ saved [322873683/322873683]\n",
            "\n"
          ],
          "name": "stdout"
        }
      ]
    },
    {
      "cell_type": "code",
      "metadata": {
        "id": "0rHPBg6PhoY2",
        "colab_type": "code",
        "colab": {}
      },
      "source": [
        "file_zip = '/tmp/rockpaperscissors.zip'\n",
        "zip_isi = zipfile.ZipFile(file_zip, 'r')\n",
        "zip_isi.extractall('/tmp')\n",
        "zip_isi.close()"
      ],
      "execution_count": 0,
      "outputs": []
    },
    {
      "cell_type": "code",
      "metadata": {
        "id": "OFWiZkLsiykU",
        "colab_type": "code",
        "colab": {}
      },
      "source": [
        "os.remove('/tmp/rockpaperscissors/rps-cv-images/README_rpc-cv-images.txt')"
      ],
      "execution_count": 0,
      "outputs": []
    },
    {
      "cell_type": "code",
      "metadata": {
        "id": "1oNR_jgzkOKj",
        "colab_type": "code",
        "colab": {
          "base_uri": "https://localhost:8080/",
          "height": 34
        },
        "outputId": "84ddd426-1d3c-4c49-84d8-9bfbd02ed07c"
      },
      "source": [
        "os.listdir('/tmp/rockpaperscissors/rps-cv-images/')"
      ],
      "execution_count": 6,
      "outputs": [
        {
          "output_type": "execute_result",
          "data": {
            "text/plain": [
              "['scissors', 'paper', 'rock']"
            ]
          },
          "metadata": {
            "tags": []
          },
          "execution_count": 6
        }
      ]
    },
    {
      "cell_type": "code",
      "metadata": {
        "id": "P5qfAYRQkWlP",
        "colab_type": "code",
        "colab": {}
      },
      "source": [
        "datagen = ImageDataGenerator(\n",
        "                    rescale=1./255,\n",
        "                    rotation_range=20,\n",
        "                    horizontal_flip=True,\n",
        "                    vertical_flip=True,\n",
        "                    shear_range = 0.2,\n",
        "                    height_shift_range=.2,\n",
        "                    validation_split=0.2,\n",
        "                    fill_mode = 'nearest')"
      ],
      "execution_count": 0,
      "outputs": []
    },
    {
      "cell_type": "code",
      "metadata": {
        "id": "_UxdbLqJtsPv",
        "colab_type": "code",
        "colab": {
          "base_uri": "https://localhost:8080/",
          "height": 50
        },
        "outputId": "cc27c391-8612-41d1-f33a-bc581cecef9b"
      },
      "source": [
        "direktori_data = '/tmp/rockpaperscissors/rps-cv-images/'\n",
        "train_data_gen = datagen.flow_from_directory(\n",
        "    direktori_data,\n",
        "    target_size = (200,200),\n",
        "    batch_size=16,\n",
        "    class_mode = 'categorical',\n",
        "    shuffle=True,\n",
        "    subset='training'\n",
        ")\n",
        "\n",
        "val_data_gen = datagen.flow_from_directory(\n",
        "    direktori_data,\n",
        "    target_size = (200,200),\n",
        "    batch_size=16,\n",
        "    class_mode = 'categorical',\n",
        "    shuffle=False,\n",
        "    subset='validation'\n",
        ")"
      ],
      "execution_count": 8,
      "outputs": [
        {
          "output_type": "stream",
          "text": [
            "Found 1751 images belonging to 3 classes.\n",
            "Found 437 images belonging to 3 classes.\n"
          ],
          "name": "stdout"
        }
      ]
    },
    {
      "cell_type": "code",
      "metadata": {
        "id": "6el_AYAtuib_",
        "colab_type": "code",
        "colab": {}
      },
      "source": [
        "model = tf.keras.models.Sequential([\n",
        "    tf.keras.layers.Conv2D(32, (3,3), activation='relu', input_shape=(200,200,3)),\n",
        "    tf.keras.layers.MaxPooling2D(2, 2),\n",
        "    tf.keras.layers.Conv2D(64, (3,3), activation='relu'),\n",
        "    tf.keras.layers.MaxPooling2D(2,2),\n",
        "    tf.keras.layers.Conv2D(128, (3,3), activation='relu'),\n",
        "    tf.keras.layers.MaxPooling2D(2,2),\n",
        "    tf.keras.layers.Dropout(0.1),\n",
        "    tf.keras.layers.Flatten(),\n",
        "    tf.keras.layers.Dense(128, activation='relu'),\n",
        "    tf.keras.layers.Dense(3, activation='softmax')\n",
        "])"
      ],
      "execution_count": 0,
      "outputs": []
    },
    {
      "cell_type": "code",
      "metadata": {
        "id": "uhKunEBSvSZh",
        "colab_type": "code",
        "colab": {
          "base_uri": "https://localhost:8080/",
          "height": 487
        },
        "outputId": "1ef7ccfc-baf0-407e-f7bc-d42fd5cb308a"
      },
      "source": [
        "model.compile(loss='categorical_crossentropy',\n",
        "              optimizer=tf.optimizers.Adam(),\n",
        "              metrics=['accuracy'])\n",
        "model.summary()"
      ],
      "execution_count": 10,
      "outputs": [
        {
          "output_type": "stream",
          "text": [
            "Model: \"sequential\"\n",
            "_________________________________________________________________\n",
            "Layer (type)                 Output Shape              Param #   \n",
            "=================================================================\n",
            "conv2d (Conv2D)              (None, 198, 198, 32)      896       \n",
            "_________________________________________________________________\n",
            "max_pooling2d (MaxPooling2D) (None, 99, 99, 32)        0         \n",
            "_________________________________________________________________\n",
            "conv2d_1 (Conv2D)            (None, 97, 97, 64)        18496     \n",
            "_________________________________________________________________\n",
            "max_pooling2d_1 (MaxPooling2 (None, 48, 48, 64)        0         \n",
            "_________________________________________________________________\n",
            "conv2d_2 (Conv2D)            (None, 46, 46, 128)       73856     \n",
            "_________________________________________________________________\n",
            "max_pooling2d_2 (MaxPooling2 (None, 23, 23, 128)       0         \n",
            "_________________________________________________________________\n",
            "dropout (Dropout)            (None, 23, 23, 128)       0         \n",
            "_________________________________________________________________\n",
            "flatten (Flatten)            (None, 67712)             0         \n",
            "_________________________________________________________________\n",
            "dense (Dense)                (None, 128)               8667264   \n",
            "_________________________________________________________________\n",
            "dense_1 (Dense)              (None, 3)                 387       \n",
            "=================================================================\n",
            "Total params: 8,760,899\n",
            "Trainable params: 8,760,899\n",
            "Non-trainable params: 0\n",
            "_________________________________________________________________\n"
          ],
          "name": "stdout"
        }
      ]
    },
    {
      "cell_type": "code",
      "metadata": {
        "id": "7Ka4jAKVvaYa",
        "colab_type": "code",
        "colab": {
          "base_uri": "https://localhost:8080/",
          "height": 1000
        },
        "outputId": "dd673059-3ef0-42ce-fc0e-398114f754b7"
      },
      "source": [
        "model.fit(\n",
        "      train_data_gen,\n",
        "      steps_per_epoch=20, \n",
        "      epochs=50,\n",
        "      validation_data=val_data_gen,\n",
        "      validation_steps=20, \n",
        "      verbose=1)"
      ],
      "execution_count": 11,
      "outputs": [
        {
          "output_type": "stream",
          "text": [
            "Epoch 1/50\n",
            "20/20 [==============================] - 32s 2s/step - loss: 1.4033 - accuracy: 0.2844 - val_loss: 1.1323 - val_accuracy: 0.1031\n",
            "Epoch 2/50\n",
            "20/20 [==============================] - 31s 2s/step - loss: 1.1014 - accuracy: 0.3312 - val_loss: 1.1042 - val_accuracy: 0.1031\n",
            "Epoch 3/50\n",
            "20/20 [==============================] - 31s 2s/step - loss: 1.0981 - accuracy: 0.3531 - val_loss: 1.1075 - val_accuracy: 0.1031\n",
            "Epoch 4/50\n",
            "20/20 [==============================] - 31s 2s/step - loss: 1.0968 - accuracy: 0.3250 - val_loss: 1.1148 - val_accuracy: 0.1969\n",
            "Epoch 5/50\n",
            "20/20 [==============================] - 31s 2s/step - loss: 1.0545 - accuracy: 0.4250 - val_loss: 1.2475 - val_accuracy: 0.1750\n",
            "Epoch 6/50\n",
            "20/20 [==============================] - 32s 2s/step - loss: 1.0562 - accuracy: 0.4187 - val_loss: 1.0501 - val_accuracy: 0.5125\n",
            "Epoch 7/50\n",
            "20/20 [==============================] - 31s 2s/step - loss: 0.9806 - accuracy: 0.5273 - val_loss: 1.0215 - val_accuracy: 0.5281\n",
            "Epoch 8/50\n",
            "20/20 [==============================] - 32s 2s/step - loss: 0.9268 - accuracy: 0.5813 - val_loss: 0.8339 - val_accuracy: 0.6062\n",
            "Epoch 9/50\n",
            "20/20 [==============================] - 31s 2s/step - loss: 0.8390 - accuracy: 0.6752 - val_loss: 0.7362 - val_accuracy: 0.6125\n",
            "Epoch 10/50\n",
            "20/20 [==============================] - 31s 2s/step - loss: 0.6801 - accuracy: 0.7344 - val_loss: 0.5555 - val_accuracy: 0.8000\n",
            "Epoch 11/50\n",
            "20/20 [==============================] - 31s 2s/step - loss: 0.6263 - accuracy: 0.7460 - val_loss: 0.6009 - val_accuracy: 0.8031\n",
            "Epoch 12/50\n",
            "20/20 [==============================] - 35s 2s/step - loss: 0.5159 - accuracy: 0.7937 - val_loss: 0.4310 - val_accuracy: 0.8375\n",
            "Epoch 13/50\n",
            "20/20 [==============================] - 31s 2s/step - loss: 0.4200 - accuracy: 0.8625 - val_loss: 0.4225 - val_accuracy: 0.8406\n",
            "Epoch 14/50\n",
            "20/20 [==============================] - 31s 2s/step - loss: 0.3540 - accuracy: 0.8656 - val_loss: 0.4485 - val_accuracy: 0.8438\n",
            "Epoch 15/50\n",
            "20/20 [==============================] - 31s 2s/step - loss: 0.3495 - accuracy: 0.8521 - val_loss: 0.3812 - val_accuracy: 0.8594\n",
            "Epoch 16/50\n",
            "20/20 [==============================] - 31s 2s/step - loss: 0.3425 - accuracy: 0.8687 - val_loss: 0.3482 - val_accuracy: 0.8813\n",
            "Epoch 17/50\n",
            "20/20 [==============================] - 31s 2s/step - loss: 0.3213 - accuracy: 0.8938 - val_loss: 0.4611 - val_accuracy: 0.8281\n",
            "Epoch 18/50\n",
            "20/20 [==============================] - 32s 2s/step - loss: 0.3655 - accuracy: 0.8687 - val_loss: 0.3930 - val_accuracy: 0.8344\n",
            "Epoch 19/50\n",
            "20/20 [==============================] - 31s 2s/step - loss: 0.2745 - accuracy: 0.9156 - val_loss: 0.2564 - val_accuracy: 0.9094\n",
            "Epoch 20/50\n",
            "20/20 [==============================] - 31s 2s/step - loss: 0.2943 - accuracy: 0.9187 - val_loss: 0.2793 - val_accuracy: 0.9031\n",
            "Epoch 21/50\n",
            "20/20 [==============================] - 31s 2s/step - loss: 0.2686 - accuracy: 0.9031 - val_loss: 0.3532 - val_accuracy: 0.8750\n",
            "Epoch 22/50\n",
            "20/20 [==============================] - 31s 2s/step - loss: 0.2756 - accuracy: 0.9187 - val_loss: 0.3963 - val_accuracy: 0.8469\n",
            "Epoch 23/50\n",
            "20/20 [==============================] - 31s 2s/step - loss: 0.2056 - accuracy: 0.9293 - val_loss: 0.2651 - val_accuracy: 0.9125\n",
            "Epoch 24/50\n",
            "20/20 [==============================] - 31s 2s/step - loss: 0.3017 - accuracy: 0.9156 - val_loss: 0.3142 - val_accuracy: 0.8813\n",
            "Epoch 25/50\n",
            "20/20 [==============================] - 31s 2s/step - loss: 0.2163 - accuracy: 0.9281 - val_loss: 0.2725 - val_accuracy: 0.9031\n",
            "Epoch 26/50\n",
            "20/20 [==============================] - 30s 2s/step - loss: 0.2394 - accuracy: 0.9260 - val_loss: 0.3072 - val_accuracy: 0.8656\n",
            "Epoch 27/50\n",
            "20/20 [==============================] - 32s 2s/step - loss: 0.2304 - accuracy: 0.9219 - val_loss: 0.2820 - val_accuracy: 0.8906\n",
            "Epoch 28/50\n",
            "20/20 [==============================] - 31s 2s/step - loss: 0.1914 - accuracy: 0.9469 - val_loss: 0.2720 - val_accuracy: 0.8969\n",
            "Epoch 29/50\n",
            "20/20 [==============================] - 31s 2s/step - loss: 0.1870 - accuracy: 0.9187 - val_loss: 0.2466 - val_accuracy: 0.9187\n",
            "Epoch 30/50\n",
            "20/20 [==============================] - 31s 2s/step - loss: 0.1991 - accuracy: 0.9293 - val_loss: 0.2371 - val_accuracy: 0.9187\n",
            "Epoch 31/50\n",
            "20/20 [==============================] - 34s 2s/step - loss: 0.1881 - accuracy: 0.9250 - val_loss: 0.1895 - val_accuracy: 0.9438\n",
            "Epoch 32/50\n",
            "20/20 [==============================] - 31s 2s/step - loss: 0.3166 - accuracy: 0.9068 - val_loss: 0.2053 - val_accuracy: 0.9219\n",
            "Epoch 33/50\n",
            "20/20 [==============================] - 31s 2s/step - loss: 0.2681 - accuracy: 0.9219 - val_loss: 0.2066 - val_accuracy: 0.9344\n",
            "Epoch 34/50\n",
            "20/20 [==============================] - 31s 2s/step - loss: 0.2161 - accuracy: 0.9281 - val_loss: 0.2253 - val_accuracy: 0.9250\n",
            "Epoch 35/50\n",
            "20/20 [==============================] - 31s 2s/step - loss: 0.1819 - accuracy: 0.9438 - val_loss: 0.2300 - val_accuracy: 0.9156\n",
            "Epoch 36/50\n",
            "20/20 [==============================] - 31s 2s/step - loss: 0.1855 - accuracy: 0.9453 - val_loss: 0.2161 - val_accuracy: 0.9062\n",
            "Epoch 37/50\n",
            "20/20 [==============================] - 32s 2s/step - loss: 0.1741 - accuracy: 0.9406 - val_loss: 0.1706 - val_accuracy: 0.9563\n",
            "Epoch 38/50\n",
            "20/20 [==============================] - 31s 2s/step - loss: 0.1857 - accuracy: 0.9438 - val_loss: 0.4025 - val_accuracy: 0.8406\n",
            "Epoch 39/50\n",
            "20/20 [==============================] - 31s 2s/step - loss: 0.2019 - accuracy: 0.9196 - val_loss: 0.3613 - val_accuracy: 0.8531\n",
            "Epoch 40/50\n",
            "20/20 [==============================] - 31s 2s/step - loss: 0.1804 - accuracy: 0.9344 - val_loss: 0.2143 - val_accuracy: 0.9250\n",
            "Epoch 41/50\n",
            "20/20 [==============================] - 31s 2s/step - loss: 0.1996 - accuracy: 0.9406 - val_loss: 0.2422 - val_accuracy: 0.9094\n",
            "Epoch 42/50\n",
            "20/20 [==============================] - 31s 2s/step - loss: 0.1850 - accuracy: 0.9469 - val_loss: 0.1809 - val_accuracy: 0.9375\n",
            "Epoch 43/50\n",
            "20/20 [==============================] - 31s 2s/step - loss: 0.1495 - accuracy: 0.9518 - val_loss: 0.3042 - val_accuracy: 0.8906\n",
            "Epoch 44/50\n",
            "20/20 [==============================] - 31s 2s/step - loss: 0.2004 - accuracy: 0.9281 - val_loss: 0.2118 - val_accuracy: 0.9281\n",
            "Epoch 45/50\n",
            "20/20 [==============================] - 31s 2s/step - loss: 0.2288 - accuracy: 0.9132 - val_loss: 0.1867 - val_accuracy: 0.9062\n",
            "Epoch 46/50\n",
            "20/20 [==============================] - 32s 2s/step - loss: 0.1762 - accuracy: 0.9281 - val_loss: 0.2379 - val_accuracy: 0.9250\n",
            "Epoch 47/50\n",
            "20/20 [==============================] - 31s 2s/step - loss: 0.2266 - accuracy: 0.9219 - val_loss: 0.2466 - val_accuracy: 0.9250\n",
            "Epoch 48/50\n",
            "20/20 [==============================] - 31s 2s/step - loss: 0.2153 - accuracy: 0.9406 - val_loss: 0.1792 - val_accuracy: 0.9344\n",
            "Epoch 49/50\n",
            "20/20 [==============================] - 32s 2s/step - loss: 0.2066 - accuracy: 0.9281 - val_loss: 0.1894 - val_accuracy: 0.9469\n",
            "Epoch 50/50\n",
            "20/20 [==============================] - 32s 2s/step - loss: 0.1786 - accuracy: 0.9469 - val_loss: 0.1925 - val_accuracy: 0.9312\n"
          ],
          "name": "stdout"
        },
        {
          "output_type": "execute_result",
          "data": {
            "text/plain": [
              "<tensorflow.python.keras.callbacks.History at 0x7f2248558e80>"
            ]
          },
          "metadata": {
            "tags": []
          },
          "execution_count": 11
        }
      ]
    },
    {
      "cell_type": "code",
      "metadata": {
        "id": "LM06FAy1v5zX",
        "colab_type": "code",
        "colab": {
          "resources": {
            "http://localhost:8080/nbextensions/google.colab/files.js": {
              "data": "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",
              "ok": true,
              "headers": [
                [
                  "content-type",
                  "application/javascript"
                ]
              ],
              "status": 200,
              "status_text": ""
            }
          },
          "base_uri": "https://localhost:8080/",
          "height": 343
        },
        "outputId": "1ba37a65-87cc-424a-9504-e5a9266212cd"
      },
      "source": [
        "uploaded = files.upload()\n",
        "\n",
        "for fn in uploaded.keys():\n",
        " \n",
        "  # predicting images\n",
        "  path = fn\n",
        "  img = image.load_img(path, target_size=(200,200))\n",
        "  imgplot = plt.imshow(img)\n",
        "  x = image.img_to_array(img)\n",
        "  x = np.expand_dims(x, axis=0)\n",
        "\n",
        "  images = np.vstack([x])\n",
        "  classes = model.predict(images, batch_size=10)\n",
        "  \n",
        "  print(classes)\n",
        "\n",
        "  #print(fn)\n",
        "  #if classes==0:\n",
        "    #print('clean')\n",
        "  #else:\n",
        "    #print('messy')"
      ],
      "execution_count": 13,
      "outputs": [
        {
          "output_type": "display_data",
          "data": {
            "text/html": [
              "\n",
              "     <input type=\"file\" id=\"files-d512c8c9-9a13-4a03-b1fe-7e7b965a6f30\" name=\"files[]\" multiple disabled />\n",
              "     <output id=\"result-d512c8c9-9a13-4a03-b1fe-7e7b965a6f30\">\n",
              "      Upload widget is only available when the cell has been executed in the\n",
              "      current browser session. Please rerun this cell to enable.\n",
              "      </output>\n",
              "      <script src=\"/nbextensions/google.colab/files.js\"></script> "
            ],
            "text/plain": [
              "<IPython.core.display.HTML object>"
            ]
          },
          "metadata": {
            "tags": []
          }
        },
        {
          "output_type": "stream",
          "text": [
            "Saving gunting.jpg to gunting (1).jpg\n",
            "[[1. 0. 0.]]\n"
          ],
          "name": "stdout"
        },
        {
          "output_type": "display_data",
          "data": {
            "image/png": "[encoded data removed]",
            "text/plain": [
              "<Figure size 432x288 with 1 Axes>"
            ]
          },
          "metadata": {
            "tags": [],
            "needs_background": "light"
          }
        }
      ]
    }
  ]
}